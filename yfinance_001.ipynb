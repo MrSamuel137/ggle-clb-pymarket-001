{
  "cells": [
    {
      "cell_type": "markdown",
      "metadata": {
        "id": "view-in-github",
        "colab_type": "text"
      },
      "source": [
        "<a href=\"https://colab.research.google.com/github/MrSamuel137/ggle-clb-pymarket-001/blob/main/yfinance_001.ipynb\" target=\"_parent\"><img src=\"https://colab.research.google.com/assets/colab-badge.svg\" alt=\"Open In Colab\"/></a>"
      ]
    },
    {
      "cell_type": "code",
      "execution_count": 7,
      "id": "269629a7",
      "metadata": {
        "id": "269629a7",
        "colab": {
          "base_uri": "https://localhost:8080/"
        },
        "outputId": "98851abc-dc82-4565-a6c9-e4b87a89b0d3"
      },
      "outputs": [
        {
          "output_type": "stream",
          "name": "stdout",
          "text": [
            "Looking in indexes: https://pypi.org/simple, https://us-python.pkg.dev/colab-wheels/public/simple/\n",
            "Requirement already satisfied: yfinance in /usr/local/lib/python3.7/dist-packages (0.1.74)\n",
            "Requirement already satisfied: lxml>=4.5.1 in /usr/local/lib/python3.7/dist-packages (from yfinance) (4.9.1)\n",
            "Requirement already satisfied: pandas>=0.24.0 in /usr/local/lib/python3.7/dist-packages (from yfinance) (1.3.5)\n",
            "Requirement already satisfied: multitasking>=0.0.7 in /usr/local/lib/python3.7/dist-packages (from yfinance) (0.0.11)\n",
            "Requirement already satisfied: requests>=2.26 in /usr/local/lib/python3.7/dist-packages (from yfinance) (2.28.1)\n",
            "Requirement already satisfied: numpy>=1.15 in /usr/local/lib/python3.7/dist-packages (from yfinance) (1.21.6)\n",
            "Requirement already satisfied: python-dateutil>=2.7.3 in /usr/local/lib/python3.7/dist-packages (from pandas>=0.24.0->yfinance) (2.8.2)\n",
            "Requirement already satisfied: pytz>=2017.3 in /usr/local/lib/python3.7/dist-packages (from pandas>=0.24.0->yfinance) (2022.2.1)\n",
            "Requirement already satisfied: six>=1.5 in /usr/local/lib/python3.7/dist-packages (from python-dateutil>=2.7.3->pandas>=0.24.0->yfinance) (1.15.0)\n",
            "Requirement already satisfied: urllib3<1.27,>=1.21.1 in /usr/local/lib/python3.7/dist-packages (from requests>=2.26->yfinance) (1.24.3)\n",
            "Requirement already satisfied: certifi>=2017.4.17 in /usr/local/lib/python3.7/dist-packages (from requests>=2.26->yfinance) (2022.6.15)\n",
            "Requirement already satisfied: idna<4,>=2.5 in /usr/local/lib/python3.7/dist-packages (from requests>=2.26->yfinance) (2.10)\n",
            "Requirement already satisfied: charset-normalizer<3,>=2 in /usr/local/lib/python3.7/dist-packages (from requests>=2.26->yfinance) (2.1.1)\n"
          ]
        }
      ],
      "source": [
        "import pandas_datareader.data as web\n",
        "import datetime\n",
        "import pandas as pd\n",
        "import numpy as np\n",
        "import matplotlib.pyplot as plt\n",
        "from pandas.plotting import scatter_matrix\n",
        "!pip install yfinance\n",
        "import yfinance as yf"
      ]
    },
    {
      "cell_type": "code",
      "execution_count": 8,
      "id": "3384f892",
      "metadata": {
        "id": "3384f892",
        "colab": {
          "base_uri": "https://localhost:8080/"
        },
        "outputId": "782d7328-592a-4224-f217-0d842c11e5d6"
      },
      "outputs": [
        {
          "output_type": "stream",
          "name": "stdout",
          "text": [
            "[*********************100%***********************]  1 of 1 completed\n",
            "[*********************100%***********************]  1 of 1 completed\n",
            "[*********************100%***********************]  1 of 1 completed\n",
            "[*********************100%***********************]  1 of 1 completed\n"
          ]
        }
      ],
      "source": [
        "start = \"2022-1-01\"\n",
        "end = '2022-9-04'\n",
        "tcs = yf.download('PETR4.SA',start,end)\n",
        "infy = yf.download('VALE3.SA',start,end)\n",
        "wipro = yf.download('^BVSP',start,end)\n",
        "bmw = yf.download('ELET6.SA',start,end)"
      ]
    },
    {
      "cell_type": "code",
      "execution_count": 9,
      "id": "4939cc5f",
      "metadata": {
        "id": "4939cc5f",
        "colab": {
          "base_uri": "https://localhost:8080/",
          "height": 655
        },
        "outputId": "e31491ce-679a-4742-8b83-552059df75e4"
      },
      "outputs": [
        {
          "output_type": "execute_result",
          "data": {
            "text/plain": [
              "                 Open       High        Low      Close  Adj Close   Volume\n",
              "Date                                                                      \n",
              "2022-01-03  33.119999  33.689999  32.110001  32.299999  31.075113  1776200\n",
              "2022-01-04  32.660000  32.669998  31.120001  31.389999  30.199623  1704700\n",
              "2022-01-05  30.969999  31.549999  30.770000  31.230000  30.045691  1841000\n",
              "2022-01-06  31.440001  31.620001  30.969999  31.200001  30.016830  1555700\n",
              "2022-01-07  31.100000  31.330000  30.010000  30.160000  29.016268  2466800\n",
              "...               ...        ...        ...        ...        ...      ...\n",
              "2022-08-29  47.529999  48.439999  47.340000  47.919998  47.919998  2163100\n",
              "2022-08-30  48.020000  48.290001  47.330002  47.610001  47.610001  2167000\n",
              "2022-08-31  47.779999  49.029999  47.200001  47.900002  47.900002  4271800\n",
              "2022-09-01  48.000000  48.840000  47.720001  48.439999  48.439999  3320400\n",
              "2022-09-02  48.910000  48.910000  47.549999  47.900002  47.900002  3672500\n",
              "\n",
              "[170 rows x 6 columns]"
            ],
            "text/html": [
              "\n",
              "  <div id=\"df-cdbeb28d-eed9-4cb5-b824-14458fc2b263\">\n",
              "    <div class=\"colab-df-container\">\n",
              "      <div>\n",
              "<style scoped>\n",
              "    .dataframe tbody tr th:only-of-type {\n",
              "        vertical-align: middle;\n",
              "    }\n",
              "\n",
              "    .dataframe tbody tr th {\n",
              "        vertical-align: top;\n",
              "    }\n",
              "\n",
              "    .dataframe thead th {\n",
              "        text-align: right;\n",
              "    }\n",
              "</style>\n",
              "<table border=\"1\" class=\"dataframe\">\n",
              "  <thead>\n",
              "    <tr style=\"text-align: right;\">\n",
              "      <th></th>\n",
              "      <th>Open</th>\n",
              "      <th>High</th>\n",
              "      <th>Low</th>\n",
              "      <th>Close</th>\n",
              "      <th>Adj Close</th>\n",
              "      <th>Volume</th>\n",
              "    </tr>\n",
              "    <tr>\n",
              "      <th>Date</th>\n",
              "      <th></th>\n",
              "      <th></th>\n",
              "      <th></th>\n",
              "      <th></th>\n",
              "      <th></th>\n",
              "      <th></th>\n",
              "    </tr>\n",
              "  </thead>\n",
              "  <tbody>\n",
              "    <tr>\n",
              "      <th>2022-01-03</th>\n",
              "      <td>33.119999</td>\n",
              "      <td>33.689999</td>\n",
              "      <td>32.110001</td>\n",
              "      <td>32.299999</td>\n",
              "      <td>31.075113</td>\n",
              "      <td>1776200</td>\n",
              "    </tr>\n",
              "    <tr>\n",
              "      <th>2022-01-04</th>\n",
              "      <td>32.660000</td>\n",
              "      <td>32.669998</td>\n",
              "      <td>31.120001</td>\n",
              "      <td>31.389999</td>\n",
              "      <td>30.199623</td>\n",
              "      <td>1704700</td>\n",
              "    </tr>\n",
              "    <tr>\n",
              "      <th>2022-01-05</th>\n",
              "      <td>30.969999</td>\n",
              "      <td>31.549999</td>\n",
              "      <td>30.770000</td>\n",
              "      <td>31.230000</td>\n",
              "      <td>30.045691</td>\n",
              "      <td>1841000</td>\n",
              "    </tr>\n",
              "    <tr>\n",
              "      <th>2022-01-06</th>\n",
              "      <td>31.440001</td>\n",
              "      <td>31.620001</td>\n",
              "      <td>30.969999</td>\n",
              "      <td>31.200001</td>\n",
              "      <td>30.016830</td>\n",
              "      <td>1555700</td>\n",
              "    </tr>\n",
              "    <tr>\n",
              "      <th>2022-01-07</th>\n",
              "      <td>31.100000</td>\n",
              "      <td>31.330000</td>\n",
              "      <td>30.010000</td>\n",
              "      <td>30.160000</td>\n",
              "      <td>29.016268</td>\n",
              "      <td>2466800</td>\n",
              "    </tr>\n",
              "    <tr>\n",
              "      <th>...</th>\n",
              "      <td>...</td>\n",
              "      <td>...</td>\n",
              "      <td>...</td>\n",
              "      <td>...</td>\n",
              "      <td>...</td>\n",
              "      <td>...</td>\n",
              "    </tr>\n",
              "    <tr>\n",
              "      <th>2022-08-29</th>\n",
              "      <td>47.529999</td>\n",
              "      <td>48.439999</td>\n",
              "      <td>47.340000</td>\n",
              "      <td>47.919998</td>\n",
              "      <td>47.919998</td>\n",
              "      <td>2163100</td>\n",
              "    </tr>\n",
              "    <tr>\n",
              "      <th>2022-08-30</th>\n",
              "      <td>48.020000</td>\n",
              "      <td>48.290001</td>\n",
              "      <td>47.330002</td>\n",
              "      <td>47.610001</td>\n",
              "      <td>47.610001</td>\n",
              "      <td>2167000</td>\n",
              "    </tr>\n",
              "    <tr>\n",
              "      <th>2022-08-31</th>\n",
              "      <td>47.779999</td>\n",
              "      <td>49.029999</td>\n",
              "      <td>47.200001</td>\n",
              "      <td>47.900002</td>\n",
              "      <td>47.900002</td>\n",
              "      <td>4271800</td>\n",
              "    </tr>\n",
              "    <tr>\n",
              "      <th>2022-09-01</th>\n",
              "      <td>48.000000</td>\n",
              "      <td>48.840000</td>\n",
              "      <td>47.720001</td>\n",
              "      <td>48.439999</td>\n",
              "      <td>48.439999</td>\n",
              "      <td>3320400</td>\n",
              "    </tr>\n",
              "    <tr>\n",
              "      <th>2022-09-02</th>\n",
              "      <td>48.910000</td>\n",
              "      <td>48.910000</td>\n",
              "      <td>47.549999</td>\n",
              "      <td>47.900002</td>\n",
              "      <td>47.900002</td>\n",
              "      <td>3672500</td>\n",
              "    </tr>\n",
              "  </tbody>\n",
              "</table>\n",
              "<p>170 rows × 6 columns</p>\n",
              "</div>\n",
              "      <button class=\"colab-df-convert\" onclick=\"convertToInteractive('df-cdbeb28d-eed9-4cb5-b824-14458fc2b263')\"\n",
              "              title=\"Convert this dataframe to an interactive table.\"\n",
              "              style=\"display:none;\">\n",
              "        \n",
              "  <svg xmlns=\"http://www.w3.org/2000/svg\" height=\"24px\"viewBox=\"0 0 24 24\"\n",
              "       width=\"24px\">\n",
              "    <path d=\"M0 0h24v24H0V0z\" fill=\"none\"/>\n",
              "    <path d=\"M18.56 5.44l.94 2.06.94-2.06 2.06-.94-2.06-.94-.94-2.06-.94 2.06-2.06.94zm-11 1L8.5 8.5l.94-2.06 2.06-.94-2.06-.94L8.5 2.5l-.94 2.06-2.06.94zm10 10l.94 2.06.94-2.06 2.06-.94-2.06-.94-.94-2.06-.94 2.06-2.06.94z\"/><path d=\"M17.41 7.96l-1.37-1.37c-.4-.4-.92-.59-1.43-.59-.52 0-1.04.2-1.43.59L10.3 9.45l-7.72 7.72c-.78.78-.78 2.05 0 2.83L4 21.41c.39.39.9.59 1.41.59.51 0 1.02-.2 1.41-.59l7.78-7.78 2.81-2.81c.8-.78.8-2.07 0-2.86zM5.41 20L4 18.59l7.72-7.72 1.47 1.35L5.41 20z\"/>\n",
              "  </svg>\n",
              "      </button>\n",
              "      \n",
              "  <style>\n",
              "    .colab-df-container {\n",
              "      display:flex;\n",
              "      flex-wrap:wrap;\n",
              "      gap: 12px;\n",
              "    }\n",
              "\n",
              "    .colab-df-convert {\n",
              "      background-color: #E8F0FE;\n",
              "      border: none;\n",
              "      border-radius: 50%;\n",
              "      cursor: pointer;\n",
              "      display: none;\n",
              "      fill: #1967D2;\n",
              "      height: 32px;\n",
              "      padding: 0 0 0 0;\n",
              "      width: 32px;\n",
              "    }\n",
              "\n",
              "    .colab-df-convert:hover {\n",
              "      background-color: #E2EBFA;\n",
              "      box-shadow: 0px 1px 2px rgba(60, 64, 67, 0.3), 0px 1px 3px 1px rgba(60, 64, 67, 0.15);\n",
              "      fill: #174EA6;\n",
              "    }\n",
              "\n",
              "    [theme=dark] .colab-df-convert {\n",
              "      background-color: #3B4455;\n",
              "      fill: #D2E3FC;\n",
              "    }\n",
              "\n",
              "    [theme=dark] .colab-df-convert:hover {\n",
              "      background-color: #434B5C;\n",
              "      box-shadow: 0px 1px 3px 1px rgba(0, 0, 0, 0.15);\n",
              "      filter: drop-shadow(0px 1px 2px rgba(0, 0, 0, 0.3));\n",
              "      fill: #FFFFFF;\n",
              "    }\n",
              "  </style>\n",
              "\n",
              "      <script>\n",
              "        const buttonEl =\n",
              "          document.querySelector('#df-cdbeb28d-eed9-4cb5-b824-14458fc2b263 button.colab-df-convert');\n",
              "        buttonEl.style.display =\n",
              "          google.colab.kernel.accessAllowed ? 'block' : 'none';\n",
              "\n",
              "        async function convertToInteractive(key) {\n",
              "          const element = document.querySelector('#df-cdbeb28d-eed9-4cb5-b824-14458fc2b263');\n",
              "          const dataTable =\n",
              "            await google.colab.kernel.invokeFunction('convertToInteractive',\n",
              "                                                     [key], {});\n",
              "          if (!dataTable) return;\n",
              "\n",
              "          const docLinkHtml = 'Like what you see? Visit the ' +\n",
              "            '<a target=\"_blank\" href=https://colab.research.google.com/notebooks/data_table.ipynb>data table notebook</a>'\n",
              "            + ' to learn more about interactive tables.';\n",
              "          element.innerHTML = '';\n",
              "          dataTable['output_type'] = 'display_data';\n",
              "          await google.colab.output.renderOutput(dataTable, element);\n",
              "          const docLink = document.createElement('div');\n",
              "          docLink.innerHTML = docLinkHtml;\n",
              "          element.appendChild(docLink);\n",
              "        }\n",
              "      </script>\n",
              "    </div>\n",
              "  </div>\n",
              "  "
            ]
          },
          "metadata": {},
          "execution_count": 9
        }
      ],
      "source": [
        "bmw"
      ]
    },
    {
      "cell_type": "code",
      "execution_count": 5,
      "id": "a15cf74f",
      "metadata": {
        "id": "a15cf74f",
        "colab": {
          "base_uri": "https://localhost:8080/",
          "height": 238
        },
        "outputId": "bda93e29-979c-4d86-e1f6-24de040e34da"
      },
      "outputs": [
        {
          "output_type": "execute_result",
          "data": {
            "text/plain": [
              "                 Open       High        Low      Close  Adj Close   Volume\n",
              "Date                                                                      \n",
              "2022-01-03  33.119999  33.689999  32.110001  32.299999  31.075113  1776200\n",
              "2022-01-04  32.660000  32.669998  31.120001  31.389999  30.199623  1704700\n",
              "2022-01-05  30.969999  31.549999  30.770000  31.230000  30.045691  1841000\n",
              "2022-01-06  31.440001  31.620001  30.969999  31.200001  30.016830  1555700\n",
              "2022-01-07  31.100000  31.330000  30.010000  30.160000  29.016268  2466800"
            ],
            "text/html": [
              "\n",
              "  <div id=\"df-252438af-998d-4b91-9eeb-d8c99dbbb144\">\n",
              "    <div class=\"colab-df-container\">\n",
              "      <div>\n",
              "<style scoped>\n",
              "    .dataframe tbody tr th:only-of-type {\n",
              "        vertical-align: middle;\n",
              "    }\n",
              "\n",
              "    .dataframe tbody tr th {\n",
              "        vertical-align: top;\n",
              "    }\n",
              "\n",
              "    .dataframe thead th {\n",
              "        text-align: right;\n",
              "    }\n",
              "</style>\n",
              "<table border=\"1\" class=\"dataframe\">\n",
              "  <thead>\n",
              "    <tr style=\"text-align: right;\">\n",
              "      <th></th>\n",
              "      <th>Open</th>\n",
              "      <th>High</th>\n",
              "      <th>Low</th>\n",
              "      <th>Close</th>\n",
              "      <th>Adj Close</th>\n",
              "      <th>Volume</th>\n",
              "    </tr>\n",
              "    <tr>\n",
              "      <th>Date</th>\n",
              "      <th></th>\n",
              "      <th></th>\n",
              "      <th></th>\n",
              "      <th></th>\n",
              "      <th></th>\n",
              "      <th></th>\n",
              "    </tr>\n",
              "  </thead>\n",
              "  <tbody>\n",
              "    <tr>\n",
              "      <th>2022-01-03</th>\n",
              "      <td>33.119999</td>\n",
              "      <td>33.689999</td>\n",
              "      <td>32.110001</td>\n",
              "      <td>32.299999</td>\n",
              "      <td>31.075113</td>\n",
              "      <td>1776200</td>\n",
              "    </tr>\n",
              "    <tr>\n",
              "      <th>2022-01-04</th>\n",
              "      <td>32.660000</td>\n",
              "      <td>32.669998</td>\n",
              "      <td>31.120001</td>\n",
              "      <td>31.389999</td>\n",
              "      <td>30.199623</td>\n",
              "      <td>1704700</td>\n",
              "    </tr>\n",
              "    <tr>\n",
              "      <th>2022-01-05</th>\n",
              "      <td>30.969999</td>\n",
              "      <td>31.549999</td>\n",
              "      <td>30.770000</td>\n",
              "      <td>31.230000</td>\n",
              "      <td>30.045691</td>\n",
              "      <td>1841000</td>\n",
              "    </tr>\n",
              "    <tr>\n",
              "      <th>2022-01-06</th>\n",
              "      <td>31.440001</td>\n",
              "      <td>31.620001</td>\n",
              "      <td>30.969999</td>\n",
              "      <td>31.200001</td>\n",
              "      <td>30.016830</td>\n",
              "      <td>1555700</td>\n",
              "    </tr>\n",
              "    <tr>\n",
              "      <th>2022-01-07</th>\n",
              "      <td>31.100000</td>\n",
              "      <td>31.330000</td>\n",
              "      <td>30.010000</td>\n",
              "      <td>30.160000</td>\n",
              "      <td>29.016268</td>\n",
              "      <td>2466800</td>\n",
              "    </tr>\n",
              "  </tbody>\n",
              "</table>\n",
              "</div>\n",
              "      <button class=\"colab-df-convert\" onclick=\"convertToInteractive('df-252438af-998d-4b91-9eeb-d8c99dbbb144')\"\n",
              "              title=\"Convert this dataframe to an interactive table.\"\n",
              "              style=\"display:none;\">\n",
              "        \n",
              "  <svg xmlns=\"http://www.w3.org/2000/svg\" height=\"24px\"viewBox=\"0 0 24 24\"\n",
              "       width=\"24px\">\n",
              "    <path d=\"M0 0h24v24H0V0z\" fill=\"none\"/>\n",
              "    <path d=\"M18.56 5.44l.94 2.06.94-2.06 2.06-.94-2.06-.94-.94-2.06-.94 2.06-2.06.94zm-11 1L8.5 8.5l.94-2.06 2.06-.94-2.06-.94L8.5 2.5l-.94 2.06-2.06.94zm10 10l.94 2.06.94-2.06 2.06-.94-2.06-.94-.94-2.06-.94 2.06-2.06.94z\"/><path d=\"M17.41 7.96l-1.37-1.37c-.4-.4-.92-.59-1.43-.59-.52 0-1.04.2-1.43.59L10.3 9.45l-7.72 7.72c-.78.78-.78 2.05 0 2.83L4 21.41c.39.39.9.59 1.41.59.51 0 1.02-.2 1.41-.59l7.78-7.78 2.81-2.81c.8-.78.8-2.07 0-2.86zM5.41 20L4 18.59l7.72-7.72 1.47 1.35L5.41 20z\"/>\n",
              "  </svg>\n",
              "      </button>\n",
              "      \n",
              "  <style>\n",
              "    .colab-df-container {\n",
              "      display:flex;\n",
              "      flex-wrap:wrap;\n",
              "      gap: 12px;\n",
              "    }\n",
              "\n",
              "    .colab-df-convert {\n",
              "      background-color: #E8F0FE;\n",
              "      border: none;\n",
              "      border-radius: 50%;\n",
              "      cursor: pointer;\n",
              "      display: none;\n",
              "      fill: #1967D2;\n",
              "      height: 32px;\n",
              "      padding: 0 0 0 0;\n",
              "      width: 32px;\n",
              "    }\n",
              "\n",
              "    .colab-df-convert:hover {\n",
              "      background-color: #E2EBFA;\n",
              "      box-shadow: 0px 1px 2px rgba(60, 64, 67, 0.3), 0px 1px 3px 1px rgba(60, 64, 67, 0.15);\n",
              "      fill: #174EA6;\n",
              "    }\n",
              "\n",
              "    [theme=dark] .colab-df-convert {\n",
              "      background-color: #3B4455;\n",
              "      fill: #D2E3FC;\n",
              "    }\n",
              "\n",
              "    [theme=dark] .colab-df-convert:hover {\n",
              "      background-color: #434B5C;\n",
              "      box-shadow: 0px 1px 3px 1px rgba(0, 0, 0, 0.15);\n",
              "      filter: drop-shadow(0px 1px 2px rgba(0, 0, 0, 0.3));\n",
              "      fill: #FFFFFF;\n",
              "    }\n",
              "  </style>\n",
              "\n",
              "      <script>\n",
              "        const buttonEl =\n",
              "          document.querySelector('#df-252438af-998d-4b91-9eeb-d8c99dbbb144 button.colab-df-convert');\n",
              "        buttonEl.style.display =\n",
              "          google.colab.kernel.accessAllowed ? 'block' : 'none';\n",
              "\n",
              "        async function convertToInteractive(key) {\n",
              "          const element = document.querySelector('#df-252438af-998d-4b91-9eeb-d8c99dbbb144');\n",
              "          const dataTable =\n",
              "            await google.colab.kernel.invokeFunction('convertToInteractive',\n",
              "                                                     [key], {});\n",
              "          if (!dataTable) return;\n",
              "\n",
              "          const docLinkHtml = 'Like what you see? Visit the ' +\n",
              "            '<a target=\"_blank\" href=https://colab.research.google.com/notebooks/data_table.ipynb>data table notebook</a>'\n",
              "            + ' to learn more about interactive tables.';\n",
              "          element.innerHTML = '';\n",
              "          dataTable['output_type'] = 'display_data';\n",
              "          await google.colab.output.renderOutput(dataTable, element);\n",
              "          const docLink = document.createElement('div');\n",
              "          docLink.innerHTML = docLinkHtml;\n",
              "          element.appendChild(docLink);\n",
              "        }\n",
              "      </script>\n",
              "    </div>\n",
              "  </div>\n",
              "  "
            ]
          },
          "metadata": {},
          "execution_count": 5
        }
      ],
      "source": [
        "bmw.head()"
      ]
    },
    {
      "cell_type": "code",
      "source": [
        "bmw['Close'].plot()\n",
        "plt.show()"
      ],
      "metadata": {
        "id": "Lf4Iw9gWpL3Z",
        "colab": {
          "base_uri": "https://localhost:8080/",
          "height": 269
        },
        "outputId": "58a19063-ccc1-4f7e-d180-4c617af6f1f2"
      },
      "id": "Lf4Iw9gWpL3Z",
      "execution_count": null,
      "outputs": [
        {
          "output_type": "display_data",
          "data": {
            "text/plain": [
              "<Figure size 432x288 with 1 Axes>"
            ],
            "image/png": "[encoded data removed]"
          },
          "metadata": {
            "needs_background": "light"
          }
        }
      ]
    },
    {
      "cell_type": "code",
      "source": [
        "bmw['Close'].plot(label= 'Stocks At Closing ', figsize=(16,5))\n",
        "bmw['Open'].plot(label='Stock Prices At Open')\n",
        "bmw['High'].plot(label='Stock Prices On A High')\n",
        "bmw['Low'].plot(label='Stock Prices On A Low')\n",
        "plt.legend()\n",
        "plt.title('BMW stock prices')\n",
        "plt.ylabel('Stock Prices')\n",
        "plt.show()"
      ],
      "metadata": {
        "id": "Q5PtRgb0pNvX",
        "colab": {
          "base_uri": "https://localhost:8080/",
          "height": 342
        },
        "outputId": "aa60e101-e42d-4b3d-ac3a-1d8cf4599a6c"
      },
      "id": "Q5PtRgb0pNvX",
      "execution_count": 10,
      "outputs": [
        {
          "output_type": "display_data",
          "data": {
            "text/plain": [
              "<Figure size 1152x360 with 1 Axes>"
            ],
            "image/png": "[encoded data removed]"
          },
          "metadata": {
            "needs_background": "light"
          }
        }
      ]
    },
    {
      "cell_type": "code",
      "source": [
        "import numpy as np"
      ],
      "metadata": {
        "id": "cAzJpPEwzxQ1"
      },
      "id": "cAzJpPEwzxQ1",
      "execution_count": null,
      "outputs": []
    },
    {
      "cell_type": "code",
      "execution_count": null,
      "id": "61feb145",
      "metadata": {
        "id": "61feb145"
      },
      "outputs": [],
      "source": [
        "start = datetime.datetime(2015,1,1)\n",
        "end = datetime.datetime(2021,12,16)"
      ]
    },
    {
      "cell_type": "code",
      "execution_count": null,
      "id": "d894308c",
      "metadata": {
        "id": "d894308c",
        "colab": {
          "base_uri": "https://localhost:8080/",
          "height": 545
        },
        "outputId": "2fe13906-22d4-4308-c9a6-9731dffb8279"
      },
      "outputs": [
        {
          "output_type": "error",
          "ename": "NameError",
          "evalue": "ignored",
          "traceback": [
            "\u001b[0;31m---------------------------------------------------------------------------\u001b[0m",
            "\u001b[0;31mNameError\u001b[0m                                 Traceback (most recent call last)",
            "\u001b[0;32m<ipython-input-32-600345578b22>\u001b[0m in \u001b[0;36m<module>\u001b[0;34m\u001b[0m\n\u001b[1;32m      1\u001b[0m \u001b[0mbmw\u001b[0m\u001b[0;34m[\u001b[0m\u001b[0;34m'Close'\u001b[0m\u001b[0;34m]\u001b[0m\u001b[0;34m.\u001b[0m\u001b[0mplot\u001b[0m\u001b[0;34m(\u001b[0m\u001b[0mlabel\u001b[0m\u001b[0;34m=\u001b[0m\u001b[0;34m'Bmw Close'\u001b[0m\u001b[0;34m,\u001b[0m \u001b[0mfigsize\u001b[0m\u001b[0;34m=\u001b[0m\u001b[0;34m(\u001b[0m\u001b[0;36m16\u001b[0m\u001b[0;34m,\u001b[0m\u001b[0;36m5\u001b[0m\u001b[0;34m)\u001b[0m\u001b[0;34m)\u001b[0m\u001b[0;34m\u001b[0m\u001b[0;34m\u001b[0m\u001b[0m\n\u001b[0;32m----> 2\u001b[0;31m \u001b[0mnissan\u001b[0m\u001b[0;34m[\u001b[0m\u001b[0;34m'Close'\u001b[0m\u001b[0;34m]\u001b[0m\u001b[0;34m.\u001b[0m\u001b[0mplot\u001b[0m\u001b[0;34m(\u001b[0m\u001b[0mlabel\u001b[0m\u001b[0;34m=\u001b[0m\u001b[0;34m'Nissan Close'\u001b[0m\u001b[0;34m)\u001b[0m\u001b[0;34m\u001b[0m\u001b[0;34m\u001b[0m\u001b[0m\n\u001b[0m\u001b[1;32m      3\u001b[0m \u001b[0mford\u001b[0m\u001b[0;34m[\u001b[0m\u001b[0;34m'Close'\u001b[0m\u001b[0;34m]\u001b[0m\u001b[0;34m.\u001b[0m\u001b[0mplot\u001b[0m\u001b[0;34m(\u001b[0m\u001b[0mlabel\u001b[0m\u001b[0;34m=\u001b[0m\u001b[0;34m'Ford Close'\u001b[0m\u001b[0;34m)\u001b[0m\u001b[0;34m\u001b[0m\u001b[0;34m\u001b[0m\u001b[0m\n\u001b[1;32m      4\u001b[0m \u001b[0mmercedez\u001b[0m\u001b[0;34m[\u001b[0m\u001b[0;34m'Close'\u001b[0m\u001b[0;34m]\u001b[0m\u001b[0;34m.\u001b[0m\u001b[0mplot\u001b[0m\u001b[0;34m(\u001b[0m\u001b[0mlabel\u001b[0m\u001b[0;34m=\u001b[0m\u001b[0;34m'Mecedez Close'\u001b[0m\u001b[0;34m)\u001b[0m\u001b[0;34m\u001b[0m\u001b[0;34m\u001b[0m\u001b[0m\n\u001b[1;32m      5\u001b[0m \u001b[0mvw\u001b[0m\u001b[0;34m[\u001b[0m\u001b[0;34m'Close'\u001b[0m\u001b[0;34m]\u001b[0m\u001b[0;34m.\u001b[0m\u001b[0mplot\u001b[0m\u001b[0;34m(\u001b[0m\u001b[0mlabel\u001b[0m\u001b[0;34m=\u001b[0m\u001b[0;34m'Volkswagon Close'\u001b[0m\u001b[0;34m)\u001b[0m\u001b[0;34m\u001b[0m\u001b[0;34m\u001b[0m\u001b[0m\n",
            "\u001b[0;31mNameError\u001b[0m: name 'nissan' is not defined"
          ]
        },
        {
          "output_type": "display_data",
          "data": {
            "text/plain": [
              "<Figure size 1152x360 with 1 Axes>"
            ],
            "image/png": "[encoded data removed]"
          },
          "metadata": {
            "needs_background": "light"
          }
        }
      ],
      "source": [
        "bmw['Close'].plot(label='Bmw Close', figsize=(16,5))\n",
        "nissan['Close'].plot(label='Nissan Close')\n",
        "ford['Close'].plot(label='Ford Close')\n",
        "mercedez['Close'].plot(label='Mecedez Close')\n",
        "vw['Close'].plot(label='Volkswagon Close')\n",
        "toyota['Close'].plot(label='Toyota Close')\n",
        "plt.legend()\n",
        "plt.title('Car Manufacturers Stocks')\n",
        "plt.ylabel('Stock Prices')\n",
        "plt.show"
      ]
    },
    {
      "cell_type": "code",
      "source": [],
      "metadata": {
        "id": "8egzax87zyWv"
      },
      "id": "8egzax87zyWv",
      "execution_count": null,
      "outputs": []
    },
    {
      "cell_type": "code",
      "execution_count": null,
      "id": "3631f411",
      "metadata": {
        "id": "3631f411",
        "colab": {
          "base_uri": "https://localhost:8080/",
          "height": 244
        },
        "outputId": "652620da-1a17-4c2b-ab32-9af4c3af060a"
      },
      "outputs": [
        {
          "output_type": "error",
          "ename": "NameError",
          "evalue": "ignored",
          "traceback": [
            "\u001b[0;31m---------------------------------------------------------------------------\u001b[0m",
            "\u001b[0;31mNameError\u001b[0m                                 Traceback (most recent call last)",
            "\u001b[0;32m<ipython-input-33-86d8fd96c2be>\u001b[0m in \u001b[0;36m<module>\u001b[0;34m\u001b[0m\n\u001b[0;32m----> 1\u001b[0;31m \u001b[0mtesla\u001b[0m\u001b[0;34m[\u001b[0m\u001b[0;34m'Open'\u001b[0m\u001b[0;34m]\u001b[0m\u001b[0;34m.\u001b[0m\u001b[0mplot\u001b[0m\u001b[0;34m(\u001b[0m\u001b[0mlabel\u001b[0m\u001b[0;34m=\u001b[0m\u001b[0;34m'Tesla Open'\u001b[0m\u001b[0;34m,\u001b[0m \u001b[0mfigsize\u001b[0m\u001b[0;34m=\u001b[0m\u001b[0;34m(\u001b[0m\u001b[0;36m16\u001b[0m\u001b[0;34m,\u001b[0m\u001b[0;36m5\u001b[0m\u001b[0;34m)\u001b[0m\u001b[0;34m)\u001b[0m\u001b[0;34m\u001b[0m\u001b[0;34m\u001b[0m\u001b[0m\n\u001b[0m\u001b[1;32m      2\u001b[0m \u001b[0mbmw\u001b[0m\u001b[0;34m[\u001b[0m\u001b[0;34m'Close'\u001b[0m\u001b[0;34m]\u001b[0m\u001b[0;34m.\u001b[0m\u001b[0mplot\u001b[0m\u001b[0;34m(\u001b[0m\u001b[0mlabel\u001b[0m\u001b[0;34m=\u001b[0m\u001b[0;34m'Bmw Open'\u001b[0m\u001b[0;34m)\u001b[0m\u001b[0;34m\u001b[0m\u001b[0;34m\u001b[0m\u001b[0m\n\u001b[1;32m      3\u001b[0m \u001b[0mnissan\u001b[0m\u001b[0;34m[\u001b[0m\u001b[0;34m'Open'\u001b[0m\u001b[0;34m]\u001b[0m\u001b[0;34m.\u001b[0m\u001b[0mplot\u001b[0m\u001b[0;34m(\u001b[0m\u001b[0mlabel\u001b[0m\u001b[0;34m=\u001b[0m\u001b[0;34m'Nissan Open'\u001b[0m\u001b[0;34m)\u001b[0m\u001b[0;34m\u001b[0m\u001b[0;34m\u001b[0m\u001b[0m\n\u001b[1;32m      4\u001b[0m \u001b[0mford\u001b[0m\u001b[0;34m[\u001b[0m\u001b[0;34m'Open'\u001b[0m\u001b[0;34m]\u001b[0m\u001b[0;34m.\u001b[0m\u001b[0mplot\u001b[0m\u001b[0;34m(\u001b[0m\u001b[0mlabel\u001b[0m\u001b[0;34m=\u001b[0m\u001b[0;34m'Ford Open'\u001b[0m\u001b[0;34m)\u001b[0m\u001b[0;34m\u001b[0m\u001b[0;34m\u001b[0m\u001b[0m\n\u001b[1;32m      5\u001b[0m \u001b[0mmercedez\u001b[0m\u001b[0;34m[\u001b[0m\u001b[0;34m'Open'\u001b[0m\u001b[0;34m]\u001b[0m\u001b[0;34m.\u001b[0m\u001b[0mplot\u001b[0m\u001b[0;34m(\u001b[0m\u001b[0mlabel\u001b[0m\u001b[0;34m=\u001b[0m\u001b[0;34m'Mecedez Open'\u001b[0m\u001b[0;34m)\u001b[0m\u001b[0;34m\u001b[0m\u001b[0;34m\u001b[0m\u001b[0m\n",
            "\u001b[0;31mNameError\u001b[0m: name 'tesla' is not defined"
          ]
        }
      ],
      "source": [
        "tesla['Open'].plot(label='Tesla Open', figsize=(16,5))\n",
        "bmw['Close'].plot(label='Bmw Open')\n",
        "nissan['Open'].plot(label='Nissan Open')\n",
        "ford['Open'].plot(label='Ford Open')\n",
        "mercedez['Open'].plot(label='Mecedez Open')\n",
        "vw['Open'].plot(label='Volkswagon Open')\n",
        "toyota['Open'].plot(label='Toyota Open')\n",
        "plt.legend()\n",
        "plt.title('Car Manufacturers Stocks')\n",
        "plt.ylabel('Stock Prices')\n",
        "plt.show"
      ]
    },
    {
      "cell_type": "code",
      "execution_count": null,
      "id": "23695485",
      "metadata": {
        "id": "23695485"
      },
      "outputs": [],
      "source": [
        "tesla['Volume'].plot(label='Tesla Volume', figsize=(16,5))\n",
        "bmw['Volume'].plot(label='Bmw Volume')\n",
        "nissan['Volume'].plot(label='Nissan Volume')\n",
        "ford['Volume'].plot(label='Ford Volume')\n",
        "mercedez['Volume'].plot(label='Mecedez Volume')\n",
        "vw['Volume'].plot(label='Volkswagon Volume')\n",
        "toyota['Volume'].plot(label='Toyota Volume')\n",
        "plt.legend()\n",
        "plt.title('Car Manufacturers Stocks')\n",
        "plt.ylabel('Stock Prices')\n",
        "plt.show"
      ]
    },
    {
      "cell_type": "code",
      "execution_count": null,
      "id": "86a14ca3",
      "metadata": {
        "id": "86a14ca3"
      },
      "outputs": [],
      "source": [
        "tesla.iloc[1300:2000]['Open'].plot(figsize=(16,5))"
      ]
    },
    {
      "cell_type": "code",
      "execution_count": null,
      "id": "97b7c799",
      "metadata": {
        "id": "97b7c799"
      },
      "outputs": [],
      "source": [
        "tesla.iloc[1300:1400]['Open'].plot(figsize=(16,5))"
      ]
    },
    {
      "cell_type": "code",
      "execution_count": null,
      "id": "376e3da6",
      "metadata": {
        "id": "376e3da6"
      },
      "outputs": [],
      "source": [
        "tesla.iloc[1300:1325]['Open'].plot(figsize=(16,5))"
      ]
    },
    {
      "cell_type": "code",
      "execution_count": null,
      "id": "1f8c89e3",
      "metadata": {
        "id": "1f8c89e3"
      },
      "outputs": [],
      "source": [
        "tesla['Total Traded'] = tesla['Open']*tesla['Volume']\n",
        "bmw['Total Traded'] =  bmw['Open']*bmw['Volume']\n",
        "nissan['Total Traded'] = nissan['Open']*nissan['Volume']\n",
        "vw['Total Traded'] =  vw['Open']*vw['Volume']\n",
        "toyota['Total Traded'] = toyota['Open']*toyota['Volume']\n",
        "ford['Total Traded'] =  ford['Open']*ford['Volume']\n",
        "mercedez['Total Traded'] = mercedez['Open']*mercedez['Volume']\n"
      ]
    },
    {
      "cell_type": "code",
      "execution_count": null,
      "id": "a8fe9048",
      "metadata": {
        "id": "a8fe9048"
      },
      "outputs": [],
      "source": [
        "nissan"
      ]
    },
    {
      "cell_type": "code",
      "execution_count": null,
      "id": "f823cddd",
      "metadata": {
        "id": "f823cddd"
      },
      "outputs": [],
      "source": [
        "vw"
      ]
    },
    {
      "cell_type": "code",
      "execution_count": null,
      "id": "772519c7",
      "metadata": {
        "id": "772519c7"
      },
      "outputs": [],
      "source": [
        "tesla"
      ]
    },
    {
      "cell_type": "code",
      "execution_count": null,
      "id": "422af0a5",
      "metadata": {
        "id": "422af0a5"
      },
      "outputs": [],
      "source": [
        "tesla['Total Traded'].plot(label='Tesla Total Traded', figsize=(16,5))\n",
        "bmw['Total Traded'].plot(label='Bmw Total Traded')\n",
        "nissan['Total Traded'].plot(label='Nissan Total Traded')\n",
        "ford['Total Traded'].plot(label='Ford Total Traded')\n",
        "mercedez['Total Traded'].plot(label='Mecedez Total Traded')\n",
        "vw['Total Traded'].plot(label='Volkswagon Total Traded')\n",
        "toyota['Total Traded'].plot(label='Toyota Total Traded')\n",
        "plt.legend()\n",
        "plt.title('Car Manufacturers Stocks')\n",
        "plt.ylabel('Total Traded')\n",
        "plt.show"
      ]
    },
    {
      "cell_type": "code",
      "execution_count": null,
      "id": "745e5c00",
      "metadata": {
        "id": "745e5c00"
      },
      "outputs": [],
      "source": [
        "tesla['Total Traded'].argmax()"
      ]
    },
    {
      "cell_type": "code",
      "execution_count": null,
      "id": "894500c5",
      "metadata": {
        "id": "894500c5"
      },
      "outputs": [],
      "source": [
        "tesla.iloc[[tesla['Total Traded'].argmax()]]"
      ]
    },
    {
      "cell_type": "code",
      "execution_count": null,
      "id": "90e913c6",
      "metadata": {
        "id": "90e913c6"
      },
      "outputs": [],
      "source": [
        "vw['Close'].plot(label='VW Stock At Close', figsize=(16,5))"
      ]
    },
    {
      "cell_type": "code",
      "execution_count": null,
      "id": "c497eeb0",
      "metadata": {
        "id": "c497eeb0"
      },
      "outputs": [],
      "source": [
        "vw['Close'].plot(label='VW Stock At Close', figsize=(16,5))"
      ]
    },
    {
      "cell_type": "code",
      "execution_count": null,
      "id": "d540c65e",
      "metadata": {
        "id": "d540c65e"
      },
      "outputs": [],
      "source": [
        "mercedez['Close'].plot(label='Mecedez Stock At Close', figsize=(16,5))"
      ]
    },
    {
      "cell_type": "code",
      "execution_count": null,
      "id": "6b7017cb",
      "metadata": {
        "id": "6b7017cb"
      },
      "outputs": [],
      "source": [
        "nissan['Close'].plot(label='Nissan Stock At Close', figsize=(16,5))"
      ]
    },
    {
      "cell_type": "code",
      "execution_count": null,
      "id": "8394fb9e",
      "metadata": {
        "id": "8394fb9e"
      },
      "outputs": [],
      "source": [
        "toyota['Close'].plot(label='Toyota Stock At Close', figsize=(16,5))"
      ]
    },
    {
      "cell_type": "code",
      "execution_count": null,
      "id": "63757e6b",
      "metadata": {
        "id": "63757e6b"
      },
      "outputs": [],
      "source": [
        "tesla['Close'].plot(label='Tesla Stock At Close', figsize=(16,5))"
      ]
    },
    {
      "cell_type": "code",
      "execution_count": null,
      "id": "5818ebfc",
      "metadata": {
        "id": "5818ebfc"
      },
      "outputs": [],
      "source": [
        "ford['Close'].plot(label='Ford Stock At Close', figsize=(16,5))"
      ]
    },
    {
      "cell_type": "code",
      "execution_count": null,
      "id": "2a464e1e",
      "metadata": {
        "id": "2a464e1e"
      },
      "outputs": [],
      "source": [
        "vw['Close'].plot(figsize=(16,5))\n",
        "vw['MA60'] = vw['Close'].rolling(60).mean()\n",
        "vw['MA60'].plot(label='MA60')\n",
        "vw['Close'].plot(label='No Moving Avarage',figsize=(16,5))\n",
        "vw['MA300'] = vw['Close'].rolling(300).mean()\n",
        "vw['MA300'].plot(label='MA300')\n",
        "plt.legend()"
      ]
    },
    {
      "cell_type": "code",
      "execution_count": null,
      "id": "2f5fe919",
      "metadata": {
        "id": "2f5fe919"
      },
      "outputs": [],
      "source": [
        "vw['Close'].plot(label='No Moving Avarage',figsize=(16,5))\n",
        "vw['MA300'] = vw['Close'].rolling(300).mean()\n",
        "vw['MA300'].plot(label='MA300')\n",
        "plt.legend()"
      ]
    },
    {
      "cell_type": "code",
      "execution_count": null,
      "id": "eec3e0f0",
      "metadata": {
        "id": "eec3e0f0"
      },
      "outputs": [],
      "source": [
        "from pandas.plotting import scatter_matrix"
      ]
    },
    {
      "cell_type": "code",
      "execution_count": null,
      "id": "ff657d0a",
      "metadata": {
        "id": "ff657d0a"
      },
      "outputs": [],
      "source": [
        "car_manufac = pd.concat([tesla['Close'], vw['Close'], bmw['Close'], toyota['Close'],mercedez['Close'], ford['Close'], nissan['Close']],axis = 1)"
      ]
    },
    {
      "cell_type": "code",
      "execution_count": null,
      "id": "b5ce305e",
      "metadata": {
        "id": "b5ce305e"
      },
      "outputs": [],
      "source": [
        "car_manufac.columns = ['Tesla Open', 'VW Open', 'Ford Open', 'Toyota Open', 'BMW Open', 'Nissan Open', 'Mercedez Open']"
      ]
    },
    {
      "cell_type": "code",
      "execution_count": null,
      "id": "1ee31cf1",
      "metadata": {
        "id": "1ee31cf1"
      },
      "outputs": [],
      "source": [
        "scatter_matrix(car_manufac, figsize=(16,5))"
      ]
    },
    {
      "cell_type": "code",
      "execution_count": null,
      "id": "2c096428",
      "metadata": {
        "id": "2c096428"
      },
      "outputs": [],
      "source": [
        "from mpl_finance import candlestick_ohlc"
      ]
    },
    {
      "cell_type": "code",
      "execution_count": null,
      "id": "c09f523f",
      "metadata": {
        "id": "c09f523f"
      },
      "outputs": [],
      "source": [
        "from matplotlib.dates import DateFormatter, date2num, WeekdayLocator, DayLocator, MONDAY"
      ]
    },
    {
      "cell_type": "code",
      "execution_count": null,
      "id": "f1274cf4",
      "metadata": {
        "id": "f1274cf4"
      },
      "outputs": [],
      "source": [
        "toyota_reset = toyota.loc['2021-12-01':'2021-12-16'].reset_index()"
      ]
    },
    {
      "cell_type": "code",
      "execution_count": null,
      "id": "6f5fd711",
      "metadata": {
        "id": "6f5fd711"
      },
      "outputs": [],
      "source": [
        "toyota_reset['date_acc'] =  toyota_reset['Date'].apply(lambda date: date2num(date))\n",
        "toyota_values = [tuple(vals) for vals in toyota_reset[['date_acc','Open','High','Low','Close']].values]\n",
        "mondays = WeekdayLocator(MONDAY)\n",
        "alldays = DayLocator()\n",
        "weekFormatter = DateFormatter('%b %d')\n",
        "dayFormatter = DateFormatter('%d')\n",
        "fig, ax = plt.subplots()\n",
        "candlestick_ohlc(ax,toyota_values,width = 0.6, colorup='g', colordown='r')"
      ]
    },
    {
      "cell_type": "code",
      "execution_count": null,
      "id": "d844f374",
      "metadata": {
        "id": "d844f374"
      },
      "outputs": [],
      "source": [
        "bmw['returns'] = (bmw['Close']/bmw['Close'].shift(1)) - 1"
      ]
    },
    {
      "cell_type": "code",
      "execution_count": null,
      "id": "51fa05bc",
      "metadata": {
        "scrolled": true,
        "id": "51fa05bc"
      },
      "outputs": [],
      "source": [
        "bmw"
      ]
    },
    {
      "cell_type": "code",
      "execution_count": null,
      "id": "f85491f8",
      "metadata": {
        "id": "f85491f8"
      },
      "outputs": [],
      "source": [
        "vw['returns'] = (vw['Close']/vw['Close'].shift(1)) - 1"
      ]
    },
    {
      "cell_type": "code",
      "execution_count": null,
      "id": "0b37751e",
      "metadata": {
        "id": "0b37751e"
      },
      "outputs": [],
      "source": [
        "vw"
      ]
    },
    {
      "cell_type": "code",
      "execution_count": null,
      "id": "b63931d9",
      "metadata": {
        "id": "b63931d9"
      },
      "outputs": [],
      "source": [
        "mercedez['returns'] = (mercedez['Close']/mercedez['Close'].shift(1)) - 1"
      ]
    },
    {
      "cell_type": "code",
      "execution_count": null,
      "id": "c4e0c092",
      "metadata": {
        "id": "c4e0c092"
      },
      "outputs": [],
      "source": [
        "mercedez"
      ]
    },
    {
      "cell_type": "code",
      "execution_count": null,
      "id": "47327a00",
      "metadata": {
        "id": "47327a00"
      },
      "outputs": [],
      "source": [
        "toyota['returns'] = (toyota['Close']/toyota['Close'].shift(1)) - 1"
      ]
    },
    {
      "cell_type": "code",
      "execution_count": null,
      "id": "b78722e5",
      "metadata": {
        "id": "b78722e5"
      },
      "outputs": [],
      "source": [
        "toyota"
      ]
    },
    {
      "cell_type": "code",
      "execution_count": null,
      "id": "ff5f0388",
      "metadata": {
        "id": "ff5f0388"
      },
      "outputs": [],
      "source": [
        "nissan['returns'] = (nissan['Close']/nissan['Close'].shift(1)) - 1"
      ]
    },
    {
      "cell_type": "code",
      "execution_count": null,
      "id": "6410530a",
      "metadata": {
        "id": "6410530a"
      },
      "outputs": [],
      "source": [
        "nissan"
      ]
    },
    {
      "cell_type": "code",
      "execution_count": null,
      "id": "1f53e4dc",
      "metadata": {
        "id": "1f53e4dc"
      },
      "outputs": [],
      "source": [
        "tesla['returns'] = (tesla['Close']/tesla['Close'].shift(1)) - 1"
      ]
    },
    {
      "cell_type": "code",
      "execution_count": null,
      "id": "b16ebd0e",
      "metadata": {
        "id": "b16ebd0e"
      },
      "outputs": [],
      "source": [
        "tesla"
      ]
    },
    {
      "cell_type": "code",
      "execution_count": null,
      "id": "08137962",
      "metadata": {
        "id": "08137962"
      },
      "outputs": [],
      "source": [
        "ford['returns'] = (ford['Close']/ford['Close'].shift(1)) - 1"
      ]
    },
    {
      "cell_type": "code",
      "execution_count": null,
      "id": "c5be319e",
      "metadata": {
        "id": "c5be319e"
      },
      "outputs": [],
      "source": [
        "ford"
      ]
    },
    {
      "cell_type": "code",
      "execution_count": null,
      "id": "6a0fa67d",
      "metadata": {
        "id": "6a0fa67d"
      },
      "outputs": [],
      "source": [
        "bmw['returns'].hist(bins=50)"
      ]
    },
    {
      "cell_type": "code",
      "execution_count": null,
      "id": "d1b9654e",
      "metadata": {
        "id": "d1b9654e"
      },
      "outputs": [],
      "source": [
        "vw['returns'].hist(bins=50)"
      ]
    },
    {
      "cell_type": "code",
      "execution_count": null,
      "id": "1f280b31",
      "metadata": {
        "id": "1f280b31"
      },
      "outputs": [],
      "source": [
        "mercedez['returns'].hist(bins=50)"
      ]
    },
    {
      "cell_type": "code",
      "execution_count": null,
      "id": "9de9f8e1",
      "metadata": {
        "id": "9de9f8e1"
      },
      "outputs": [],
      "source": [
        "nissan['returns'].hist(bins=50)"
      ]
    },
    {
      "cell_type": "code",
      "execution_count": null,
      "id": "d6578c48",
      "metadata": {
        "id": "d6578c48"
      },
      "outputs": [],
      "source": [
        "toyota['returns'].hist(bins=50)"
      ]
    },
    {
      "cell_type": "code",
      "execution_count": null,
      "id": "d3e3fe78",
      "metadata": {
        "id": "d3e3fe78"
      },
      "outputs": [],
      "source": [
        "tesla['returns'].hist(bins=50)"
      ]
    },
    {
      "cell_type": "code",
      "execution_count": null,
      "id": "ddd9795b",
      "metadata": {
        "id": "ddd9795b"
      },
      "outputs": [],
      "source": [
        "ford['returns'].hist(bins=50)"
      ]
    },
    {
      "cell_type": "code",
      "execution_count": null,
      "id": "b5af8ac4",
      "metadata": {
        "id": "b5af8ac4"
      },
      "outputs": [],
      "source": [
        "bmw['returns'].hist(bins=100,label='BMW', alpha=0.5, figsize = (16,5))\n",
        "vw['returns'].hist(bins=50,label='VW')\n",
        "toyota['returns'].hist(bins=50, label='Toyota')\n",
        "nissan['returns'].hist(bins=50, label='Nissan')\n",
        "mercedez['returns'].hist(bins=50, label='Mercedez')\n",
        "tesla['returns'].hist(bins=50, label='Tesla')\n",
        "ford['returns'].hist(bins=50, label='Ford')\n",
        "plt.legend()"
      ]
    },
    {
      "cell_type": "code",
      "execution_count": null,
      "id": "e2888d58",
      "metadata": {
        "id": "e2888d58"
      },
      "outputs": [],
      "source": [
        "bmw['returns'].plot(kind='kde',label='BMW',figsize=(15,5))\n",
        "vw['returns'].plot(kind='kde',label='VW')\n",
        "mercedez['returns'].plot(kind='kde',label='Mercedez')\n",
        "toyota['returns'].plot(kind='kde',label='')\n",
        "nissan['returns'].plot(kind='kde',label='Nissan')\n",
        "tesla['returns'].plot(kind='kde',label='Tesla')\n",
        "ford['returns'].plot(kind='kde',label='Ford')\n",
        "plt.legend()"
      ]
    },
    {
      "cell_type": "code",
      "execution_count": null,
      "id": "43bf7641",
      "metadata": {
        "id": "43bf7641"
      },
      "outputs": [],
      "source": [
        "box_df = pd.concat([tesla['returns'],bmw['returns'],ford['returns'],mercedez['returns'],toyota['returns'],nissan['returns'],vw['returns']],axis = 1)\n",
        "box_df.columns=['Tesla','BMW','VW','Toyota','Ford','Nissan','Mercedez',]\n",
        "box_df.plot(kind='box', figsize=(16,5))"
      ]
    },
    {
      "cell_type": "code",
      "execution_count": null,
      "id": "0db425dc",
      "metadata": {
        "id": "0db425dc"
      },
      "outputs": [],
      "source": [
        "bmw['Cumulative Return'] = (1+bmw['returns']).cumprod()"
      ]
    },
    {
      "cell_type": "code",
      "execution_count": null,
      "id": "a2d38bb8",
      "metadata": {
        "id": "a2d38bb8"
      },
      "outputs": [],
      "source": [
        "bmw"
      ]
    },
    {
      "cell_type": "code",
      "execution_count": null,
      "id": "ffef5d4e",
      "metadata": {
        "id": "ffef5d4e"
      },
      "outputs": [],
      "source": [
        "vw['Cumulative Return'] = (1+vw['returns']).cumprod()"
      ]
    },
    {
      "cell_type": "code",
      "execution_count": null,
      "id": "0e4b667e",
      "metadata": {
        "id": "0e4b667e"
      },
      "outputs": [],
      "source": [
        "vw"
      ]
    },
    {
      "cell_type": "code",
      "execution_count": null,
      "id": "100110a4",
      "metadata": {
        "id": "100110a4"
      },
      "outputs": [],
      "source": [
        "mercedez['Cumulative Return'] = (1+mercedez['returns']).cumprod()"
      ]
    },
    {
      "cell_type": "code",
      "execution_count": null,
      "id": "66fe24f7",
      "metadata": {
        "id": "66fe24f7"
      },
      "outputs": [],
      "source": [
        "mercedez"
      ]
    },
    {
      "cell_type": "code",
      "execution_count": null,
      "id": "f22b7f35",
      "metadata": {
        "id": "f22b7f35"
      },
      "outputs": [],
      "source": [
        "toyota['Cumulative Return'] = (1+toyota['returns']).cumprod()"
      ]
    },
    {
      "cell_type": "code",
      "execution_count": null,
      "id": "7e212f94",
      "metadata": {
        "id": "7e212f94"
      },
      "outputs": [],
      "source": [
        "toyota"
      ]
    },
    {
      "cell_type": "code",
      "execution_count": null,
      "id": "29fefac6",
      "metadata": {
        "id": "29fefac6"
      },
      "outputs": [],
      "source": [
        "nissan['Cumulative Return'] = (1+nissan['returns']).cumprod()"
      ]
    },
    {
      "cell_type": "code",
      "execution_count": null,
      "id": "d840ee2f",
      "metadata": {
        "id": "d840ee2f"
      },
      "outputs": [],
      "source": [
        "nissan"
      ]
    },
    {
      "cell_type": "code",
      "execution_count": null,
      "id": "0424375e",
      "metadata": {
        "id": "0424375e"
      },
      "outputs": [],
      "source": [
        "ford['Cumulative Return'] = (1+ford['returns']).cumprod()"
      ]
    },
    {
      "cell_type": "code",
      "execution_count": null,
      "id": "0e157628",
      "metadata": {
        "id": "0e157628"
      },
      "outputs": [],
      "source": [
        "ford"
      ]
    },
    {
      "cell_type": "code",
      "execution_count": null,
      "id": "171d64d2",
      "metadata": {
        "id": "171d64d2"
      },
      "outputs": [],
      "source": [
        "tesla['Cumulative Return'] = (1+tesla['returns']).cumprod()"
      ]
    },
    {
      "cell_type": "code",
      "execution_count": null,
      "id": "67ebdbdc",
      "metadata": {
        "id": "67ebdbdc"
      },
      "outputs": [],
      "source": [
        "tesla"
      ]
    },
    {
      "cell_type": "code",
      "execution_count": null,
      "id": "3c043a38",
      "metadata": {
        "id": "3c043a38"
      },
      "outputs": [],
      "source": [
        "bmw['Cumulative Return'].plot(label='BMW', figsize=(16,5))\n",
        "vw['Cumulative Return'].plot(label='VW')\n",
        "mercedez['Cumulative Return'].plot(label='Mercedez')\n",
        "toyota['Cumulative Return'].plot(label='Toyota')\n",
        "nissan['Cumulative Return'].plot(label='Nissan')\n",
        "tesla['Cumulative Return'].plot(label='Tesla')\n",
        "ford['Cumulative Return'].plot(label='Ford')\n",
        "plt.title('Cumulative Return Vs Time')\n",
        "plt.legend()"
      ]
    },
    {
      "cell_type": "code",
      "execution_count": null,
      "id": "5512c5a4",
      "metadata": {
        "id": "5512c5a4"
      },
      "outputs": [],
      "source": []
    }
  ],
  "metadata": {
    "kernelspec": {
      "display_name": "Python 3 (ipykernel)",
      "language": "python",
      "name": "python3"
    },
    "language_info": {
      "codemirror_mode": {
        "name": "ipython",
        "version": 3
      },
      "file_extension": ".py",
      "mimetype": "text/x-python",
      "name": "python",
      "nbconvert_exporter": "python",
      "pygments_lexer": "ipython3",
      "version": "3.9.7"
    },
    "colab": {
      "provenance": [],
      "collapsed_sections": [],
      "include_colab_link": true
    }
  },
  "nbformat": 4,
  "nbformat_minor": 5
}